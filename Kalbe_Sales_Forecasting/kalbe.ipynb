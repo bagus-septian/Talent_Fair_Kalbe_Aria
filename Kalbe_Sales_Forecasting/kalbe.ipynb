{
  "cells": [
    {
      "cell_type": "markdown",
      "metadata": {
        "id": "ptg3H4OIx64P"
      },
      "source": [
        "# Product Sales Forecasting"
      ]
    },
    {
      "attachments": {},
      "cell_type": "markdown",
      "metadata": {
        "id": "4WHK3guyx64U"
      },
      "source": [
        "## 1.Introduction\n",
        "\n",
        "Name : Muhamad Bagus Septian\n",
        "\n",
        "Project Description : This project is part of hacktiv8 talent fair chalenge. In this project I'm going to solve a problem proposed from Kalbe data. The data that's been presented consist of product sales data from multiple category. To solve the problem I'm gonna build a machine learning model to forecast each product sales to get an idea which product sales perform the best"
      ]
    },
    {
      "cell_type": "markdown",
      "metadata": {
        "id": "WVmMHMNix64V"
      },
      "source": [
        "## 2.Import Libraries"
      ]
    },
    {
      "cell_type": "code",
      "execution_count": 1,
      "metadata": {
        "id": "WYFexhRcx64W"
      },
      "outputs": [],
      "source": [
        "# Basic library\n",
        "import numpy as np\n",
        "import pandas as pd\n",
        "import matplotlib.pyplot as plt\n",
        "import seaborn as sns\n",
        "\n",
        "# For date manipulation\n",
        "from datetime import datetime, timedelta\n",
        "\n",
        "# Seasonal and trend analysis\n",
        "from statsmodels.tsa.seasonal import seasonal_decompose\n",
        "\n",
        "from scipy.stats import f_oneway\n",
        "\n",
        "# Forecasting model\n",
        "from pmdarima.arima import auto_arima\n",
        "from statsmodels.tsa.statespace.sarimax import SARIMAX\n",
        "\n",
        "# Model Evaluation\n",
        "from sklearn.metrics import mean_squared_error, mean_absolute_error\n",
        "\n",
        "# Ignore warnings\n",
        "import warnings\n",
        "warnings.filterwarnings('ignore')"
      ]
    },
    {
      "cell_type": "markdown",
      "metadata": {
        "id": "ZIh9-VD1x64Y"
      },
      "source": [
        "## 3.Data Loading"
      ]
    },
    {
      "cell_type": "code",
      "execution_count": 2,
      "metadata": {
        "id": "i2UbrwGux64Y"
      },
      "outputs": [],
      "source": [
        "df_A1 = pd.read_excel('kalbe_data.xlsx', sheet_name='A1')\n",
        "df_A2 = pd.read_excel('kalbe_data.xlsx', sheet_name='A2')\n",
        "df_B1 = pd.read_excel('kalbe_data.xlsx', sheet_name='B1')\n",
        "df_B2 = pd.read_excel('kalbe_data.xlsx', sheet_name='B2')"
      ]
    },
    {
      "cell_type": "markdown",
      "metadata": {
        "id": "Ut-eiKegx64Z"
      },
      "source": [
        "### 3.1 Data Overview"
      ]
    },
    {
      "cell_type": "markdown",
      "metadata": {
        "id": "nnCqPdVQx64a"
      },
      "source": [
        "#### 3.1.1 Data Overview A1"
      ]
    },
    {
      "cell_type": "code",
      "execution_count": 3,
      "metadata": {
        "colab": {
          "base_uri": "https://localhost:8080/",
          "height": 206
        },
        "id": "xPO2Vwwcx64b",
        "outputId": "0cd3278b-3343-4ac9-bb6e-236d64b9ccc5"
      },
      "outputs": [
        {
          "data": {
            "text/html": [
              "<div>\n",
              "<style scoped>\n",
              "    .dataframe tbody tr th:only-of-type {\n",
              "        vertical-align: middle;\n",
              "    }\n",
              "\n",
              "    .dataframe tbody tr th {\n",
              "        vertical-align: top;\n",
              "    }\n",
              "\n",
              "    .dataframe thead th {\n",
              "        text-align: right;\n",
              "    }\n",
              "</style>\n",
              "<table border=\"1\" class=\"dataframe\">\n",
              "  <thead>\n",
              "    <tr style=\"text-align: right;\">\n",
              "      <th></th>\n",
              "      <th>Day</th>\n",
              "      <th>Category</th>\n",
              "      <th>Product</th>\n",
              "      <th>Sales</th>\n",
              "    </tr>\n",
              "  </thead>\n",
              "  <tbody>\n",
              "    <tr>\n",
              "      <th>0</th>\n",
              "      <td>1</td>\n",
              "      <td>A</td>\n",
              "      <td>A1</td>\n",
              "      <td>100.000000</td>\n",
              "    </tr>\n",
              "    <tr>\n",
              "      <th>1</th>\n",
              "      <td>2</td>\n",
              "      <td>A</td>\n",
              "      <td>A1</td>\n",
              "      <td>101.000000</td>\n",
              "    </tr>\n",
              "    <tr>\n",
              "      <th>2</th>\n",
              "      <td>3</td>\n",
              "      <td>A</td>\n",
              "      <td>A1</td>\n",
              "      <td>102.010000</td>\n",
              "    </tr>\n",
              "    <tr>\n",
              "      <th>3</th>\n",
              "      <td>4</td>\n",
              "      <td>A</td>\n",
              "      <td>A1</td>\n",
              "      <td>103.030100</td>\n",
              "    </tr>\n",
              "    <tr>\n",
              "      <th>4</th>\n",
              "      <td>5</td>\n",
              "      <td>A</td>\n",
              "      <td>A1</td>\n",
              "      <td>104.060401</td>\n",
              "    </tr>\n",
              "  </tbody>\n",
              "</table>\n",
              "</div>"
            ],
            "text/plain": [
              "   Day Category Product       Sales\n",
              "0    1        A      A1  100.000000\n",
              "1    2        A      A1  101.000000\n",
              "2    3        A      A1  102.010000\n",
              "3    4        A      A1  103.030100\n",
              "4    5        A      A1  104.060401"
            ]
          },
          "execution_count": 3,
          "metadata": {},
          "output_type": "execute_result"
        }
      ],
      "source": [
        "# Dataset preview\n",
        "df_A1.head()"
      ]
    },
    {
      "cell_type": "code",
      "execution_count": 4,
      "metadata": {
        "colab": {
          "base_uri": "https://localhost:8080/",
          "height": 206
        },
        "id": "ba6w1uCQx64d",
        "outputId": "7c6e469b-3225-4725-c3d7-aa63a1f774f7"
      },
      "outputs": [
        {
          "data": {
            "text/html": [
              "<div>\n",
              "<style scoped>\n",
              "    .dataframe tbody tr th:only-of-type {\n",
              "        vertical-align: middle;\n",
              "    }\n",
              "\n",
              "    .dataframe tbody tr th {\n",
              "        vertical-align: top;\n",
              "    }\n",
              "\n",
              "    .dataframe thead th {\n",
              "        text-align: right;\n",
              "    }\n",
              "</style>\n",
              "<table border=\"1\" class=\"dataframe\">\n",
              "  <thead>\n",
              "    <tr style=\"text-align: right;\">\n",
              "      <th></th>\n",
              "      <th>Day</th>\n",
              "      <th>Category</th>\n",
              "      <th>Product</th>\n",
              "      <th>Sales</th>\n",
              "    </tr>\n",
              "  </thead>\n",
              "  <tbody>\n",
              "    <tr>\n",
              "      <th>85</th>\n",
              "      <td>86</td>\n",
              "      <td>A</td>\n",
              "      <td>A1</td>\n",
              "      <td>196.980000</td>\n",
              "    </tr>\n",
              "    <tr>\n",
              "      <th>86</th>\n",
              "      <td>87</td>\n",
              "      <td>A</td>\n",
              "      <td>A1</td>\n",
              "      <td>197.964900</td>\n",
              "    </tr>\n",
              "    <tr>\n",
              "      <th>87</th>\n",
              "      <td>88</td>\n",
              "      <td>A</td>\n",
              "      <td>A1</td>\n",
              "      <td>198.954724</td>\n",
              "    </tr>\n",
              "    <tr>\n",
              "      <th>88</th>\n",
              "      <td>89</td>\n",
              "      <td>A</td>\n",
              "      <td>A1</td>\n",
              "      <td>199.949498</td>\n",
              "    </tr>\n",
              "    <tr>\n",
              "      <th>89</th>\n",
              "      <td>90</td>\n",
              "      <td>A</td>\n",
              "      <td>A1</td>\n",
              "      <td>200.949246</td>\n",
              "    </tr>\n",
              "  </tbody>\n",
              "</table>\n",
              "</div>"
            ],
            "text/plain": [
              "    Day Category Product       Sales\n",
              "85   86        A      A1  196.980000\n",
              "86   87        A      A1  197.964900\n",
              "87   88        A      A1  198.954724\n",
              "88   89        A      A1  199.949498\n",
              "89   90        A      A1  200.949246"
            ]
          },
          "execution_count": 4,
          "metadata": {},
          "output_type": "execute_result"
        }
      ],
      "source": [
        "# Dataset preview\n",
        "df_A1.tail()"
      ]
    },
    {
      "cell_type": "code",
      "execution_count": 5,
      "metadata": {
        "colab": {
          "base_uri": "https://localhost:8080/"
        },
        "id": "fsPYQoBlx64e",
        "outputId": "8a0c08a8-7be2-4ba1-cc7e-c3fc1c14673c"
      },
      "outputs": [
        {
          "name": "stdout",
          "output_type": "stream",
          "text": [
            "<class 'pandas.core.frame.DataFrame'>\n",
            "RangeIndex: 90 entries, 0 to 89\n",
            "Data columns (total 4 columns):\n",
            " #   Column    Non-Null Count  Dtype  \n",
            "---  ------    --------------  -----  \n",
            " 0   Day       90 non-null     int64  \n",
            " 1   Category  90 non-null     object \n",
            " 2   Product   90 non-null     object \n",
            " 3   Sales     90 non-null     float64\n",
            "dtypes: float64(1), int64(1), object(2)\n",
            "memory usage: 2.9+ KB\n"
          ]
        }
      ],
      "source": [
        "# Checking dataset info\n",
        "df_A1.info()"
      ]
    },
    {
      "cell_type": "markdown",
      "metadata": {
        "id": "77ejCG2_x64e"
      },
      "source": [
        "* The dataset for A1 consist of 4 columns and 90 rows\n",
        "* There are 2 numerical columns (Day & Sales) and 2 Categorical Columns (Category & Product)\n",
        "* There are no missing value in the dataset."
      ]
    },
    {
      "cell_type": "markdown",
      "metadata": {
        "id": "v2hDkSeOx64f"
      },
      "source": [
        "#### 3.1.2 Data Overview A2"
      ]
    },
    {
      "cell_type": "code",
      "execution_count": 6,
      "metadata": {
        "colab": {
          "base_uri": "https://localhost:8080/",
          "height": 206
        },
        "id": "qQOWBdWGx64f",
        "outputId": "db68a5a1-cf39-4887-bb8d-52d39c41e7ac"
      },
      "outputs": [
        {
          "data": {
            "text/html": [
              "<div>\n",
              "<style scoped>\n",
              "    .dataframe tbody tr th:only-of-type {\n",
              "        vertical-align: middle;\n",
              "    }\n",
              "\n",
              "    .dataframe tbody tr th {\n",
              "        vertical-align: top;\n",
              "    }\n",
              "\n",
              "    .dataframe thead th {\n",
              "        text-align: right;\n",
              "    }\n",
              "</style>\n",
              "<table border=\"1\" class=\"dataframe\">\n",
              "  <thead>\n",
              "    <tr style=\"text-align: right;\">\n",
              "      <th></th>\n",
              "      <th>Day</th>\n",
              "      <th>Category</th>\n",
              "      <th>Product</th>\n",
              "      <th>Sales</th>\n",
              "    </tr>\n",
              "  </thead>\n",
              "  <tbody>\n",
              "    <tr>\n",
              "      <th>0</th>\n",
              "      <td>1</td>\n",
              "      <td>A</td>\n",
              "      <td>A2</td>\n",
              "      <td>1000.000000</td>\n",
              "    </tr>\n",
              "    <tr>\n",
              "      <th>1</th>\n",
              "      <td>2</td>\n",
              "      <td>A</td>\n",
              "      <td>A2</td>\n",
              "      <td>1005.000000</td>\n",
              "    </tr>\n",
              "    <tr>\n",
              "      <th>2</th>\n",
              "      <td>3</td>\n",
              "      <td>A</td>\n",
              "      <td>A2</td>\n",
              "      <td>1010.025000</td>\n",
              "    </tr>\n",
              "    <tr>\n",
              "      <th>3</th>\n",
              "      <td>4</td>\n",
              "      <td>A</td>\n",
              "      <td>A2</td>\n",
              "      <td>1015.075125</td>\n",
              "    </tr>\n",
              "    <tr>\n",
              "      <th>4</th>\n",
              "      <td>5</td>\n",
              "      <td>A</td>\n",
              "      <td>A2</td>\n",
              "      <td>1020.150501</td>\n",
              "    </tr>\n",
              "  </tbody>\n",
              "</table>\n",
              "</div>"
            ],
            "text/plain": [
              "   Day Category Product        Sales\n",
              "0    1        A      A2  1000.000000\n",
              "1    2        A      A2  1005.000000\n",
              "2    3        A      A2  1010.025000\n",
              "3    4        A      A2  1015.075125\n",
              "4    5        A      A2  1020.150501"
            ]
          },
          "execution_count": 6,
          "metadata": {},
          "output_type": "execute_result"
        }
      ],
      "source": [
        "# Dataset preview\n",
        "df_A2.head()"
      ]
    },
    {
      "cell_type": "code",
      "execution_count": 7,
      "metadata": {
        "colab": {
          "base_uri": "https://localhost:8080/",
          "height": 206
        },
        "id": "8Mca7llsx64g",
        "outputId": "daebd6f5-1fa8-4cfd-9e7b-6d20969be4fe"
      },
      "outputs": [
        {
          "data": {
            "text/html": [
              "<div>\n",
              "<style scoped>\n",
              "    .dataframe tbody tr th:only-of-type {\n",
              "        vertical-align: middle;\n",
              "    }\n",
              "\n",
              "    .dataframe tbody tr th {\n",
              "        vertical-align: top;\n",
              "    }\n",
              "\n",
              "    .dataframe thead th {\n",
              "        text-align: right;\n",
              "    }\n",
              "</style>\n",
              "<table border=\"1\" class=\"dataframe\">\n",
              "  <thead>\n",
              "    <tr style=\"text-align: right;\">\n",
              "      <th></th>\n",
              "      <th>Day</th>\n",
              "      <th>Category</th>\n",
              "      <th>Product</th>\n",
              "      <th>Sales</th>\n",
              "    </tr>\n",
              "  </thead>\n",
              "  <tbody>\n",
              "    <tr>\n",
              "      <th>85</th>\n",
              "      <td>86</td>\n",
              "      <td>A</td>\n",
              "      <td>A2</td>\n",
              "      <td>1527.971484</td>\n",
              "    </tr>\n",
              "    <tr>\n",
              "      <th>86</th>\n",
              "      <td>87</td>\n",
              "      <td>A</td>\n",
              "      <td>A2</td>\n",
              "      <td>1535.611342</td>\n",
              "    </tr>\n",
              "    <tr>\n",
              "      <th>87</th>\n",
              "      <td>88</td>\n",
              "      <td>A</td>\n",
              "      <td>A2</td>\n",
              "      <td>1543.289398</td>\n",
              "    </tr>\n",
              "    <tr>\n",
              "      <th>88</th>\n",
              "      <td>89</td>\n",
              "      <td>A</td>\n",
              "      <td>A2</td>\n",
              "      <td>1551.005845</td>\n",
              "    </tr>\n",
              "    <tr>\n",
              "      <th>89</th>\n",
              "      <td>90</td>\n",
              "      <td>A</td>\n",
              "      <td>A2</td>\n",
              "      <td>1558.760875</td>\n",
              "    </tr>\n",
              "  </tbody>\n",
              "</table>\n",
              "</div>"
            ],
            "text/plain": [
              "    Day Category Product        Sales\n",
              "85   86        A      A2  1527.971484\n",
              "86   87        A      A2  1535.611342\n",
              "87   88        A      A2  1543.289398\n",
              "88   89        A      A2  1551.005845\n",
              "89   90        A      A2  1558.760875"
            ]
          },
          "execution_count": 7,
          "metadata": {},
          "output_type": "execute_result"
        }
      ],
      "source": [
        "# Dataset preview\n",
        "df_A2.tail()"
      ]
    },
    {
      "cell_type": "code",
      "execution_count": 8,
      "metadata": {
        "colab": {
          "base_uri": "https://localhost:8080/"
        },
        "id": "5c5xEiVnx64g",
        "outputId": "40a31147-7422-450e-9c53-5f531991120d"
      },
      "outputs": [
        {
          "name": "stdout",
          "output_type": "stream",
          "text": [
            "<class 'pandas.core.frame.DataFrame'>\n",
            "RangeIndex: 90 entries, 0 to 89\n",
            "Data columns (total 4 columns):\n",
            " #   Column    Non-Null Count  Dtype  \n",
            "---  ------    --------------  -----  \n",
            " 0   Day       90 non-null     int64  \n",
            " 1   Category  90 non-null     object \n",
            " 2   Product   90 non-null     object \n",
            " 3   Sales     90 non-null     float64\n",
            "dtypes: float64(1), int64(1), object(2)\n",
            "memory usage: 2.9+ KB\n"
          ]
        }
      ],
      "source": [
        "# Checking dataset info\n",
        "df_A2.info()"
      ]
    },
    {
      "cell_type": "markdown",
      "metadata": {
        "id": "WhRMz63Vx64g"
      },
      "source": [
        "* This dataset hase similar composition as the A1 dataset with 4 columns and 90 rows\n",
        "* This dataset also has 2 numerical columns (Day & Sales) and 2 Categorical Columns (Category & Product)\n",
        "* There are no missing value in A2 dataset."
      ]
    },
    {
      "cell_type": "markdown",
      "metadata": {
        "id": "7A9KbSr5x64h"
      },
      "source": [
        "### 3.1.3 Data Overview B1"
      ]
    },
    {
      "cell_type": "code",
      "execution_count": 9,
      "metadata": {
        "colab": {
          "base_uri": "https://localhost:8080/",
          "height": 206
        },
        "id": "psTRgsN3x64h",
        "outputId": "b653587d-394b-4510-da59-aaec85b2ceb5"
      },
      "outputs": [
        {
          "data": {
            "text/html": [
              "<div>\n",
              "<style scoped>\n",
              "    .dataframe tbody tr th:only-of-type {\n",
              "        vertical-align: middle;\n",
              "    }\n",
              "\n",
              "    .dataframe tbody tr th {\n",
              "        vertical-align: top;\n",
              "    }\n",
              "\n",
              "    .dataframe thead th {\n",
              "        text-align: right;\n",
              "    }\n",
              "</style>\n",
              "<table border=\"1\" class=\"dataframe\">\n",
              "  <thead>\n",
              "    <tr style=\"text-align: right;\">\n",
              "      <th></th>\n",
              "      <th>Day</th>\n",
              "      <th>Category</th>\n",
              "      <th>Product</th>\n",
              "      <th>Sales</th>\n",
              "      <th>Event</th>\n",
              "    </tr>\n",
              "  </thead>\n",
              "  <tbody>\n",
              "    <tr>\n",
              "      <th>0</th>\n",
              "      <td>1</td>\n",
              "      <td>B</td>\n",
              "      <td>B1</td>\n",
              "      <td>990.0</td>\n",
              "      <td>0</td>\n",
              "    </tr>\n",
              "    <tr>\n",
              "      <th>1</th>\n",
              "      <td>2</td>\n",
              "      <td>B</td>\n",
              "      <td>B1</td>\n",
              "      <td>980.0</td>\n",
              "      <td>0</td>\n",
              "    </tr>\n",
              "    <tr>\n",
              "      <th>2</th>\n",
              "      <td>3</td>\n",
              "      <td>B</td>\n",
              "      <td>B1</td>\n",
              "      <td>1010.0</td>\n",
              "      <td>0</td>\n",
              "    </tr>\n",
              "    <tr>\n",
              "      <th>3</th>\n",
              "      <td>4</td>\n",
              "      <td>B</td>\n",
              "      <td>B1</td>\n",
              "      <td>1010.0</td>\n",
              "      <td>0</td>\n",
              "    </tr>\n",
              "    <tr>\n",
              "      <th>4</th>\n",
              "      <td>5</td>\n",
              "      <td>B</td>\n",
              "      <td>B1</td>\n",
              "      <td>1000.0</td>\n",
              "      <td>0</td>\n",
              "    </tr>\n",
              "  </tbody>\n",
              "</table>\n",
              "</div>"
            ],
            "text/plain": [
              "   Day Category Product   Sales  Event\n",
              "0    1        B      B1   990.0      0\n",
              "1    2        B      B1   980.0      0\n",
              "2    3        B      B1  1010.0      0\n",
              "3    4        B      B1  1010.0      0\n",
              "4    5        B      B1  1000.0      0"
            ]
          },
          "execution_count": 9,
          "metadata": {},
          "output_type": "execute_result"
        }
      ],
      "source": [
        "# Dataset preview\n",
        "df_B1.head()"
      ]
    },
    {
      "cell_type": "code",
      "execution_count": 10,
      "metadata": {
        "colab": {
          "base_uri": "https://localhost:8080/",
          "height": 206
        },
        "id": "6qiISOeWx64h",
        "outputId": "52b319ab-88e1-4a2b-98d4-d994239d1692"
      },
      "outputs": [
        {
          "data": {
            "text/html": [
              "<div>\n",
              "<style scoped>\n",
              "    .dataframe tbody tr th:only-of-type {\n",
              "        vertical-align: middle;\n",
              "    }\n",
              "\n",
              "    .dataframe tbody tr th {\n",
              "        vertical-align: top;\n",
              "    }\n",
              "\n",
              "    .dataframe thead th {\n",
              "        text-align: right;\n",
              "    }\n",
              "</style>\n",
              "<table border=\"1\" class=\"dataframe\">\n",
              "  <thead>\n",
              "    <tr style=\"text-align: right;\">\n",
              "      <th></th>\n",
              "      <th>Day</th>\n",
              "      <th>Category</th>\n",
              "      <th>Product</th>\n",
              "      <th>Sales</th>\n",
              "      <th>Event</th>\n",
              "    </tr>\n",
              "  </thead>\n",
              "  <tbody>\n",
              "    <tr>\n",
              "      <th>99</th>\n",
              "      <td>100</td>\n",
              "      <td>B</td>\n",
              "      <td>B1</td>\n",
              "      <td>NaN</td>\n",
              "      <td>0</td>\n",
              "    </tr>\n",
              "    <tr>\n",
              "      <th>100</th>\n",
              "      <td>101</td>\n",
              "      <td>B</td>\n",
              "      <td>B1</td>\n",
              "      <td>NaN</td>\n",
              "      <td>1</td>\n",
              "    </tr>\n",
              "    <tr>\n",
              "      <th>101</th>\n",
              "      <td>102</td>\n",
              "      <td>B</td>\n",
              "      <td>B1</td>\n",
              "      <td>NaN</td>\n",
              "      <td>0</td>\n",
              "    </tr>\n",
              "    <tr>\n",
              "      <th>102</th>\n",
              "      <td>103</td>\n",
              "      <td>B</td>\n",
              "      <td>B1</td>\n",
              "      <td>NaN</td>\n",
              "      <td>0</td>\n",
              "    </tr>\n",
              "    <tr>\n",
              "      <th>103</th>\n",
              "      <td>104</td>\n",
              "      <td>B</td>\n",
              "      <td>B1</td>\n",
              "      <td>NaN</td>\n",
              "      <td>0</td>\n",
              "    </tr>\n",
              "  </tbody>\n",
              "</table>\n",
              "</div>"
            ],
            "text/plain": [
              "     Day Category Product  Sales  Event\n",
              "99   100        B      B1    NaN      0\n",
              "100  101        B      B1    NaN      1\n",
              "101  102        B      B1    NaN      0\n",
              "102  103        B      B1    NaN      0\n",
              "103  104        B      B1    NaN      0"
            ]
          },
          "execution_count": 10,
          "metadata": {},
          "output_type": "execute_result"
        }
      ],
      "source": [
        "# Dataset preview\n",
        "df_B1.tail()"
      ]
    },
    {
      "cell_type": "code",
      "execution_count": 11,
      "metadata": {
        "colab": {
          "base_uri": "https://localhost:8080/"
        },
        "id": "KHZlmDKSx64i",
        "outputId": "75a75a0e-03d2-452f-a6f3-5c3ccb5aed35"
      },
      "outputs": [
        {
          "name": "stdout",
          "output_type": "stream",
          "text": [
            "<class 'pandas.core.frame.DataFrame'>\n",
            "RangeIndex: 104 entries, 0 to 103\n",
            "Data columns (total 5 columns):\n",
            " #   Column    Non-Null Count  Dtype  \n",
            "---  ------    --------------  -----  \n",
            " 0   Day       104 non-null    int64  \n",
            " 1   Category  104 non-null    object \n",
            " 2   Product   104 non-null    object \n",
            " 3   Sales     90 non-null     float64\n",
            " 4   Event     104 non-null    int64  \n",
            "dtypes: float64(1), int64(2), object(2)\n",
            "memory usage: 4.2+ KB\n"
          ]
        }
      ],
      "source": [
        "# Checking dataset info\n",
        "df_B1.info()"
      ]
    },
    {
      "cell_type": "markdown",
      "metadata": {
        "id": "pQf3TJUbx64i"
      },
      "source": [
        "* The dataset consist of 5 columns and 104 rows\n",
        "* There are 2 numerical columns (Day & Sales) \n",
        "* There are 14 missing values in Sales column"
      ]
    },
    {
      "cell_type": "markdown",
      "metadata": {
        "id": "3lvqdf_lx64i"
      },
      "source": [
        "### 3.1.4 Data Overview B2"
      ]
    },
    {
      "cell_type": "code",
      "execution_count": 12,
      "metadata": {
        "colab": {
          "base_uri": "https://localhost:8080/",
          "height": 206
        },
        "id": "6Re6rH7cx64j",
        "outputId": "0fa65a1e-aaf5-4cc5-fb0b-103d33eb3c0d"
      },
      "outputs": [
        {
          "data": {
            "text/html": [
              "<div>\n",
              "<style scoped>\n",
              "    .dataframe tbody tr th:only-of-type {\n",
              "        vertical-align: middle;\n",
              "    }\n",
              "\n",
              "    .dataframe tbody tr th {\n",
              "        vertical-align: top;\n",
              "    }\n",
              "\n",
              "    .dataframe thead th {\n",
              "        text-align: right;\n",
              "    }\n",
              "</style>\n",
              "<table border=\"1\" class=\"dataframe\">\n",
              "  <thead>\n",
              "    <tr style=\"text-align: right;\">\n",
              "      <th></th>\n",
              "      <th>Day</th>\n",
              "      <th>Category</th>\n",
              "      <th>Product</th>\n",
              "      <th>Sales</th>\n",
              "    </tr>\n",
              "  </thead>\n",
              "  <tbody>\n",
              "    <tr>\n",
              "      <th>0</th>\n",
              "      <td>1</td>\n",
              "      <td>B</td>\n",
              "      <td>B2</td>\n",
              "      <td>NaN</td>\n",
              "    </tr>\n",
              "    <tr>\n",
              "      <th>1</th>\n",
              "      <td>2</td>\n",
              "      <td>B</td>\n",
              "      <td>B2</td>\n",
              "      <td>NaN</td>\n",
              "    </tr>\n",
              "    <tr>\n",
              "      <th>2</th>\n",
              "      <td>3</td>\n",
              "      <td>B</td>\n",
              "      <td>B2</td>\n",
              "      <td>NaN</td>\n",
              "    </tr>\n",
              "    <tr>\n",
              "      <th>3</th>\n",
              "      <td>4</td>\n",
              "      <td>B</td>\n",
              "      <td>B2</td>\n",
              "      <td>NaN</td>\n",
              "    </tr>\n",
              "    <tr>\n",
              "      <th>4</th>\n",
              "      <td>5</td>\n",
              "      <td>B</td>\n",
              "      <td>B2</td>\n",
              "      <td>NaN</td>\n",
              "    </tr>\n",
              "  </tbody>\n",
              "</table>\n",
              "</div>"
            ],
            "text/plain": [
              "   Day Category Product  Sales\n",
              "0    1        B      B2    NaN\n",
              "1    2        B      B2    NaN\n",
              "2    3        B      B2    NaN\n",
              "3    4        B      B2    NaN\n",
              "4    5        B      B2    NaN"
            ]
          },
          "execution_count": 12,
          "metadata": {},
          "output_type": "execute_result"
        }
      ],
      "source": [
        "# Dataset preview\n",
        "df_B2.head()"
      ]
    },
    {
      "cell_type": "code",
      "execution_count": 13,
      "metadata": {
        "colab": {
          "base_uri": "https://localhost:8080/",
          "height": 206
        },
        "id": "hNPp-cctx64j",
        "outputId": "4e3cb73e-2ddb-4553-f8be-725de37ab82a"
      },
      "outputs": [
        {
          "data": {
            "text/html": [
              "<div>\n",
              "<style scoped>\n",
              "    .dataframe tbody tr th:only-of-type {\n",
              "        vertical-align: middle;\n",
              "    }\n",
              "\n",
              "    .dataframe tbody tr th {\n",
              "        vertical-align: top;\n",
              "    }\n",
              "\n",
              "    .dataframe thead th {\n",
              "        text-align: right;\n",
              "    }\n",
              "</style>\n",
              "<table border=\"1\" class=\"dataframe\">\n",
              "  <thead>\n",
              "    <tr style=\"text-align: right;\">\n",
              "      <th></th>\n",
              "      <th>Day</th>\n",
              "      <th>Category</th>\n",
              "      <th>Product</th>\n",
              "      <th>Sales</th>\n",
              "    </tr>\n",
              "  </thead>\n",
              "  <tbody>\n",
              "    <tr>\n",
              "      <th>99</th>\n",
              "      <td>100</td>\n",
              "      <td>B</td>\n",
              "      <td>B2</td>\n",
              "      <td>NaN</td>\n",
              "    </tr>\n",
              "    <tr>\n",
              "      <th>100</th>\n",
              "      <td>101</td>\n",
              "      <td>B</td>\n",
              "      <td>B2</td>\n",
              "      <td>NaN</td>\n",
              "    </tr>\n",
              "    <tr>\n",
              "      <th>101</th>\n",
              "      <td>102</td>\n",
              "      <td>B</td>\n",
              "      <td>B2</td>\n",
              "      <td>NaN</td>\n",
              "    </tr>\n",
              "    <tr>\n",
              "      <th>102</th>\n",
              "      <td>103</td>\n",
              "      <td>B</td>\n",
              "      <td>B2</td>\n",
              "      <td>NaN</td>\n",
              "    </tr>\n",
              "    <tr>\n",
              "      <th>103</th>\n",
              "      <td>104</td>\n",
              "      <td>B</td>\n",
              "      <td>B2</td>\n",
              "      <td>NaN</td>\n",
              "    </tr>\n",
              "  </tbody>\n",
              "</table>\n",
              "</div>"
            ],
            "text/plain": [
              "     Day Category Product  Sales\n",
              "99   100        B      B2    NaN\n",
              "100  101        B      B2    NaN\n",
              "101  102        B      B2    NaN\n",
              "102  103        B      B2    NaN\n",
              "103  104        B      B2    NaN"
            ]
          },
          "execution_count": 13,
          "metadata": {},
          "output_type": "execute_result"
        }
      ],
      "source": [
        "# Dataset preview\n",
        "df_B2.tail()"
      ]
    },
    {
      "cell_type": "code",
      "execution_count": 14,
      "metadata": {
        "colab": {
          "base_uri": "https://localhost:8080/"
        },
        "id": "TprJ23Xqx64j",
        "outputId": "3964d6a6-faf5-4821-d4a8-7d991fc9c9af"
      },
      "outputs": [
        {
          "name": "stdout",
          "output_type": "stream",
          "text": [
            "<class 'pandas.core.frame.DataFrame'>\n",
            "RangeIndex: 104 entries, 0 to 103\n",
            "Data columns (total 4 columns):\n",
            " #   Column    Non-Null Count  Dtype  \n",
            "---  ------    --------------  -----  \n",
            " 0   Day       104 non-null    int64  \n",
            " 1   Category  104 non-null    object \n",
            " 2   Product   104 non-null    object \n",
            " 3   Sales     30 non-null     float64\n",
            "dtypes: float64(1), int64(1), object(2)\n",
            "memory usage: 3.4+ KB\n"
          ]
        }
      ],
      "source": [
        "# Checking dataset info\n",
        "df_B2.info()"
      ]
    },
    {
      "cell_type": "markdown",
      "metadata": {
        "id": "4GVrDF63x64k"
      },
      "source": [
        "* The dataset consist with 4 columns and 90 rows\n",
        "* This dataset has 2 numerical columns (Day & Sales) and 2 Categorical Columns (Category & Product)\n",
        "* There are 74 missing values in Sales column"
      ]
    },
    {
      "cell_type": "markdown",
      "metadata": {
        "id": "C1fb4tyIx64k"
      },
      "source": [
        "### 3.2 Data Cleaning & Preparation"
      ]
    },
    {
      "attachments": {},
      "cell_type": "markdown",
      "metadata": {},
      "source": [
        "### 3.2.1 Handling Missingg Values"
      ]
    },
    {
      "attachments": {},
      "cell_type": "markdown",
      "metadata": {},
      "source": [
        "From the data preview we found that there are missing values in Sales column for both B1 and B2. We will further investigate this missing  value pattern by using a simple visualization plot."
      ]
    },
    {
      "cell_type": "code",
      "execution_count": 15,
      "metadata": {},
      "outputs": [
        {
          "data": {
            "image/png": "[encoded data removed]",
            "text/plain": [
              "<Figure size 864x576 with 1 Axes>"
            ]
          },
          "metadata": {},
          "output_type": "display_data"
        }
      ],
      "source": [
        "sns.set()\n",
        "df_A1['Sales'].plot(figsize=(12,8))\n",
        "df_A2['Sales'].plot(figsize=(12,8))\n",
        "df_B1['Sales'].plot(figsize=(12,8))\n",
        "df_B2['Sales'].plot(figsize=(12,8))\n",
        "plt.legend(['A1', 'A2', 'B1', 'B2'])\n",
        "plt.show()"
      ]
    },
    {
      "attachments": {},
      "cell_type": "markdown",
      "metadata": {},
      "source": [
        "We can see that all the line chart from every dataset stop at the same place. This could means that all the dataset last recorded sales end at day 90. Missing value in B1 and B2 past day 90 might happen because the sales haven't been recorded yet. Moreover we can also see that sales for B2 start at day 60 from 0. So that might mean that before day 60 there are no B2 product being sold. Based on the founding of our investigation about B1 and B2 missing value there are a couple of ways to be used to handle the missing value. FIrst we are going to use imputation with backward interpolation. Second we are going to drop everything past day 90 to create uniformity between each dataset."
      ]
    },
    {
      "cell_type": "code",
      "execution_count": 16,
      "metadata": {},
      "outputs": [],
      "source": [
        "df_B2['Sales'] = df_B2['Sales'].interpolate(limit_direction=\"backward\")"
      ]
    },
    {
      "cell_type": "code",
      "execution_count": 17,
      "metadata": {},
      "outputs": [],
      "source": [
        "df_B1.dropna(inplace=True)\n",
        "df_B2.dropna(inplace=True)"
      ]
    },
    {
      "attachments": {},
      "cell_type": "markdown",
      "metadata": {
        "id": "i3JzQ5VRx64k"
      },
      "source": [
        "#### 3.2.2 Column Adjusting"
      ]
    },
    {
      "cell_type": "markdown",
      "metadata": {
        "id": "5WtgWnWTx64k"
      },
      "source": [
        "In this project we are going to build a machine learnig models for forecasting sales. In order to make a forecasting model we are going to need a datetime column as an index. So we are going to add a date time column and setting it as an Index. For the date range we are going to use today's date as the end date and the start date would be the previos date based on the length of the days in each dataset."
      ]
    },
    {
      "cell_type": "code",
      "execution_count": 18,
      "metadata": {
        "id": "XyEmlpHfx64k"
      },
      "outputs": [],
      "source": [
        "# Frist we are going to define a fucntion that will give us list of dates for each dataset\n",
        "def list_date(data):\n",
        "    # We are going to define the end date with today's date\n",
        "    today = datetime.now()\n",
        "    # We also going to define the number of previos date based on the length of each dataset\n",
        "    n_days = len(data) -1\n",
        "    # Defining start date as the date difference between today and n_days\n",
        "    start_date = today - timedelta(n_days)\n",
        "    # Creating empty dataframe for the list of dates\n",
        "    date_range = pd.DataFrame()\n",
        "    # Generating list of dates\n",
        "    date = pd.date_range(start=start_date, end=today)\n",
        "    # Inputting the list of dates to the empty dataframe\n",
        "    date_range = pd.DataFrame(date, columns=['Date'])\n",
        "    # Converting the listt of dates format to date-month-year\n",
        "    date_range['Date'] = pd.to_datetime(date_range['Date']).dt.floor('D')\n",
        "    return date_range"
      ]
    },
    {
      "cell_type": "code",
      "execution_count": 19,
      "metadata": {
        "id": "1EbYe_eix64l"
      },
      "outputs": [],
      "source": [
        "# Generating list of dates for dataset A1\n",
        "date_range_A1 = list_date(df_A1)\n",
        "\n",
        "# Generating list of dates for dataset A2\n",
        "date_range_A2 = list_date(df_A2)\n",
        "\n",
        "# Generating list of dates for dataset B1\n",
        "date_range_B1 = list_date(df_B1)\n",
        "\n",
        "# Generating list of dates for dataset B2\n",
        "date_range_B2 = list_date(df_B2)"
      ]
    },
    {
      "cell_type": "code",
      "execution_count": 20,
      "metadata": {
        "colab": {
          "base_uri": "https://localhost:8080/",
          "height": 206
        },
        "id": "ztceshQ5x64l",
        "outputId": "73016e67-026a-4e81-99a7-b65a584357cb"
      },
      "outputs": [
        {
          "data": {
            "text/html": [
              "<div>\n",
              "<style scoped>\n",
              "    .dataframe tbody tr th:only-of-type {\n",
              "        vertical-align: middle;\n",
              "    }\n",
              "\n",
              "    .dataframe tbody tr th {\n",
              "        vertical-align: top;\n",
              "    }\n",
              "\n",
              "    .dataframe thead th {\n",
              "        text-align: right;\n",
              "    }\n",
              "</style>\n",
              "<table border=\"1\" class=\"dataframe\">\n",
              "  <thead>\n",
              "    <tr style=\"text-align: right;\">\n",
              "      <th></th>\n",
              "      <th>Date</th>\n",
              "    </tr>\n",
              "  </thead>\n",
              "  <tbody>\n",
              "    <tr>\n",
              "      <th>0</th>\n",
              "      <td>2022-11-24</td>\n",
              "    </tr>\n",
              "    <tr>\n",
              "      <th>1</th>\n",
              "      <td>2022-11-25</td>\n",
              "    </tr>\n",
              "    <tr>\n",
              "      <th>2</th>\n",
              "      <td>2022-11-26</td>\n",
              "    </tr>\n",
              "    <tr>\n",
              "      <th>3</th>\n",
              "      <td>2022-11-27</td>\n",
              "    </tr>\n",
              "    <tr>\n",
              "      <th>4</th>\n",
              "      <td>2022-11-28</td>\n",
              "    </tr>\n",
              "  </tbody>\n",
              "</table>\n",
              "</div>"
            ],
            "text/plain": [
              "        Date\n",
              "0 2022-11-24\n",
              "1 2022-11-25\n",
              "2 2022-11-26\n",
              "3 2022-11-27\n",
              "4 2022-11-28"
            ]
          },
          "execution_count": 20,
          "metadata": {},
          "output_type": "execute_result"
        }
      ],
      "source": [
        "# Preview of list of dates result\n",
        "date_range_A1.head()"
      ]
    },
    {
      "cell_type": "markdown",
      "metadata": {
        "id": "4zeRn-cbx64l"
      },
      "source": [
        "Now that we have generated the list of dates foe each dataset we will merge them into each dataset and set the date as an index."
      ]
    },
    {
      "cell_type": "code",
      "execution_count": 21,
      "metadata": {
        "id": "S5IUcSLax64l"
      },
      "outputs": [],
      "source": [
        "# First we are going to define a function to cancatenate the dataset \n",
        "def add_datetime_index(data, date):\n",
        "    # Concatenate the dataset and list of dates\n",
        "    concat = pd.concat([data, date], axis=1)\n",
        "    # Setting the date in the dataset as an index\n",
        "    concat.set_index('Date', inplace=True)\n",
        "    return concat"
      ]
    },
    {
      "cell_type": "code",
      "execution_count": 22,
      "metadata": {
        "id": "twPMh0eix64l"
      },
      "outputs": [],
      "source": [
        "# Concatenating date with dataset and setting it as an index for dataset A1\n",
        "df_A1 = add_datetime_index(df_A1, date_range_A1)\n",
        "\n",
        "# Concatenating date with dataset and setting it as an index for dataset A2\n",
        "df_A2 = add_datetime_index(df_A2, date_range_A2)\n",
        "\n",
        "# Concatenating date with dataset and setting it as an index for dataset B1\n",
        "df_B1 = add_datetime_index(df_B1, date_range_B1)\n",
        "\n",
        "# Concatenating date with dataset and setting it as an index for dataset B2\n",
        "df_B2 = add_datetime_index(df_B2, date_range_B2)"
      ]
    },
    {
      "cell_type": "code",
      "execution_count": 23,
      "metadata": {
        "colab": {
          "base_uri": "https://localhost:8080/",
          "height": 237
        },
        "id": "6rBTl-DZx64m",
        "outputId": "90a9e732-1ac1-4fcb-9875-e4b2e9452745"
      },
      "outputs": [
        {
          "data": {
            "text/html": [
              "<div>\n",
              "<style scoped>\n",
              "    .dataframe tbody tr th:only-of-type {\n",
              "        vertical-align: middle;\n",
              "    }\n",
              "\n",
              "    .dataframe tbody tr th {\n",
              "        vertical-align: top;\n",
              "    }\n",
              "\n",
              "    .dataframe thead th {\n",
              "        text-align: right;\n",
              "    }\n",
              "</style>\n",
              "<table border=\"1\" class=\"dataframe\">\n",
              "  <thead>\n",
              "    <tr style=\"text-align: right;\">\n",
              "      <th></th>\n",
              "      <th>Day</th>\n",
              "      <th>Category</th>\n",
              "      <th>Product</th>\n",
              "      <th>Sales</th>\n",
              "    </tr>\n",
              "    <tr>\n",
              "      <th>Date</th>\n",
              "      <th></th>\n",
              "      <th></th>\n",
              "      <th></th>\n",
              "      <th></th>\n",
              "    </tr>\n",
              "  </thead>\n",
              "  <tbody>\n",
              "    <tr>\n",
              "      <th>2022-11-24</th>\n",
              "      <td>1</td>\n",
              "      <td>A</td>\n",
              "      <td>A1</td>\n",
              "      <td>100.000000</td>\n",
              "    </tr>\n",
              "    <tr>\n",
              "      <th>2022-11-25</th>\n",
              "      <td>2</td>\n",
              "      <td>A</td>\n",
              "      <td>A1</td>\n",
              "      <td>101.000000</td>\n",
              "    </tr>\n",
              "    <tr>\n",
              "      <th>2022-11-26</th>\n",
              "      <td>3</td>\n",
              "      <td>A</td>\n",
              "      <td>A1</td>\n",
              "      <td>102.010000</td>\n",
              "    </tr>\n",
              "    <tr>\n",
              "      <th>2022-11-27</th>\n",
              "      <td>4</td>\n",
              "      <td>A</td>\n",
              "      <td>A1</td>\n",
              "      <td>103.030100</td>\n",
              "    </tr>\n",
              "    <tr>\n",
              "      <th>2022-11-28</th>\n",
              "      <td>5</td>\n",
              "      <td>A</td>\n",
              "      <td>A1</td>\n",
              "      <td>104.060401</td>\n",
              "    </tr>\n",
              "  </tbody>\n",
              "</table>\n",
              "</div>"
            ],
            "text/plain": [
              "            Day Category Product       Sales\n",
              "Date                                        \n",
              "2022-11-24    1        A      A1  100.000000\n",
              "2022-11-25    2        A      A1  101.000000\n",
              "2022-11-26    3        A      A1  102.010000\n",
              "2022-11-27    4        A      A1  103.030100\n",
              "2022-11-28    5        A      A1  104.060401"
            ]
          },
          "execution_count": 23,
          "metadata": {},
          "output_type": "execute_result"
        }
      ],
      "source": [
        "# Preview of dataset after adjustment\n",
        "df_A1.head()"
      ]
    },
    {
      "cell_type": "markdown",
      "metadata": {
        "id": "RKG9wrzLx64n"
      },
      "source": [
        "## 4.Exploratory Data Analysis"
      ]
    },
    {
      "cell_type": "markdown",
      "metadata": {
        "id": "0Snbzm_yx64o"
      },
      "source": [
        "### 4.1 Product A1 EDA"
      ]
    },
    {
      "cell_type": "code",
      "execution_count": 24,
      "metadata": {
        "colab": {
          "base_uri": "https://localhost:8080/",
          "height": 710
        },
        "id": "uL7sU7okx64o",
        "outputId": "8de2dbd9-7a5a-4272-9201-4c701a92c75e"
      },
      "outputs": [
        {
          "data": {
            "image/png": "[encoded data removed]",
            "text/plain": [
              "<Figure size 720x720 with 4 Axes>"
            ]
          },
          "metadata": {},
          "output_type": "display_data"
        },
        {
          "name": "stdout",
          "output_type": "stream",
          "text": [
            "Sales A1 mean = 150.81929754225288\n",
            "Sales A1 std = 31.200697580714866\n"
          ]
        }
      ],
      "source": [
        "# Defining the sales data for plotting\n",
        "sales_A1 = df_A1['Sales']\n",
        "\n",
        "# Create a visualization for sales trend\n",
        "sns.set()\n",
        "seasonal_A1 = seasonal_decompose(sales_A1, model='additive')\n",
        "fig1 = seasonal_A1.plot()\n",
        "fig1.set_size_inches((10, 10))\n",
        "plt.suptitle('Sales of Product Category A1')\n",
        "plt.show()\n",
        "\n",
        "print('Sales A1 mean =',sales_A1.mean())\n",
        "print('Sales A1 std =',sales_A1.std())"
      ]
    },
    {
      "attachments": {},
      "cell_type": "markdown",
      "metadata": {},
      "source": [
        "Product A1 has an increasing trend for the whole 90 days. The average product sold are 151 goods, with 31 sales difference every day. The A1 sales also shows seasonality with a some increas and decrease every few days."
      ]
    },
    {
      "cell_type": "markdown",
      "metadata": {
        "id": "WSDb8lrux64o"
      },
      "source": [
        "### 4.2 Product A2 EDA"
      ]
    },
    {
      "cell_type": "code",
      "execution_count": 25,
      "metadata": {
        "colab": {
          "base_uri": "https://localhost:8080/",
          "height": 710
        },
        "id": "WxazbMZCx64o",
        "outputId": "a178a48f-58ec-45a7-807f-3f39abbd9bc6"
      },
      "outputs": [
        {
          "data": {
            "image/png": "[encoded data removed]",
            "text/plain": [
              "<Figure size 720x720 with 4 Axes>"
            ]
          },
          "metadata": {},
          "output_type": "display_data"
        },
        {
          "name": "stdout",
          "output_type": "stream",
          "text": [
            "Sales A2 mean = 1265.0103977426058\n",
            "Sales A2 std = 164.44047118410532\n"
          ]
        }
      ],
      "source": [
        "# Defining the sales data for plotting\n",
        "sales_A2 = df_A2['Sales']\n",
        "\n",
        "# Create a visualization for sales trend\n",
        "sns.set()\n",
        "seasonal_A2 = seasonal_decompose(sales_A2, model='additive')\n",
        "fig2 = seasonal_A2.plot()\n",
        "fig2.set_size_inches((10, 10))\n",
        "plt.suptitle('Sales of Product Category A2')\n",
        "plt.show()\n",
        "\n",
        "print('Sales A2 mean =',sales_A2.mean())\n",
        "print('Sales A2 std =',sales_A2.std())"
      ]
    },
    {
      "attachments": {},
      "cell_type": "markdown",
      "metadata": {},
      "source": [
        "Produt A2 shows similar increasing trend as A1, but overall sales of A2 shows much larger produt sold with average of 1265 and standard deviation in each day of 164. We can also found seasonality in product A2"
      ]
    },
    {
      "cell_type": "markdown",
      "metadata": {
        "id": "HjZTfXw6x64p"
      },
      "source": [
        "### 4.3 Product B1 EDA"
      ]
    },
    {
      "cell_type": "code",
      "execution_count": 26,
      "metadata": {
        "colab": {
          "base_uri": "https://localhost:8080/",
          "height": 675
        },
        "id": "N677aZQyx64p",
        "outputId": "8d0a10a9-b06d-4bd2-a07d-19890a7d6b9b"
      },
      "outputs": [
        {
          "data": {
            "image/png": "[encoded data removed]",
            "text/plain": [
              "<Figure size 720x720 with 4 Axes>"
            ]
          },
          "metadata": {},
          "output_type": "display_data"
        },
        {
          "name": "stdout",
          "output_type": "stream",
          "text": [
            "Sales B1 mean = 1063.0555555555557\n",
            "Sales B1 std = 197.69687164615596\n"
          ]
        }
      ],
      "source": [
        "# Create a visualization for sales trend\n",
        "sales_B1 = df_B1['Sales']\n",
        "\n",
        "# Create a visualization for sales trend\n",
        "sns.set()\n",
        "seasonal_B1 = seasonal_decompose(sales_B1, model='additive')\n",
        "fig_B1 = seasonal_B1.plot()\n",
        "fig_B1.set_size_inches((10, 10))\n",
        "plt.suptitle('Sales of Product Category B1')\n",
        "plt.show()\n",
        "\n",
        "print('Sales B1 mean =',sales_B1.mean())\n",
        "print('Sales B1 std =',sales_B1.std())"
      ]
    },
    {
      "attachments": {},
      "cell_type": "markdown",
      "metadata": {},
      "source": [
        "Product B1 trend are irregular and doesn't shows a certain pattern. The average product sold are 1063 with standard deviation of 197. B1 also shows seasonality every few days."
      ]
    },
    {
      "cell_type": "markdown",
      "metadata": {
        "id": "tZS_idOOx64q"
      },
      "source": [
        "### 4.4 Product B2 EDA"
      ]
    },
    {
      "cell_type": "code",
      "execution_count": 27,
      "metadata": {
        "colab": {
          "base_uri": "https://localhost:8080/",
          "height": 744
        },
        "id": "yeWCI6bTx64q",
        "outputId": "6eec51a0-53f2-4964-97bd-3cd9c593e066"
      },
      "outputs": [
        {
          "data": {
            "image/png": "[encoded data removed]",
            "text/plain": [
              "<Figure size 720x720 with 4 Axes>"
            ]
          },
          "metadata": {},
          "output_type": "display_data"
        },
        {
          "name": "stdout",
          "output_type": "stream",
          "text": [
            "Sales B2 mean = 927.2919086200284\n",
            "Sales B2 std = 1754.375542131209\n"
          ]
        }
      ],
      "source": [
        "# Create a visualization for sales trend\n",
        "sales_B2 = df_B2['Sales']\n",
        "\n",
        "# Create a visualization for sales trend\n",
        "sns.set()\n",
        "seasonal_B2 = seasonal_decompose(sales_B2, model='additive')\n",
        "fig_B2 = seasonal_B2.plot()\n",
        "fig_B2.set_size_inches((10, 10))\n",
        "plt.suptitle('Sales of Product Category B2')\n",
        "plt.show()\n",
        "\n",
        "print('Sales B2 mean =',sales_B2.mean())\n",
        "print('Sales B2 std =',sales_B2.std())"
      ]
    },
    {
      "attachments": {},
      "cell_type": "markdown",
      "metadata": {},
      "source": [
        "Product B2 sales trend shows increase at the end of 90 days period. This is because the product sales recorded only start from 30 days ago. Compared to other product sales, B2 has the most increase in the span of 30 days. The average product sold in the period are 927. The standard deviation are really high because there are a huge increase of sales in the last 30 days. The product might be quite popular with the customer."
      ]
    },
    {
      "attachments": {},
      "cell_type": "markdown",
      "metadata": {},
      "source": [
        "### 4.5 Inferential Analysis"
      ]
    },
    {
      "attachments": {},
      "cell_type": "markdown",
      "metadata": {},
      "source": [
        "We are going to look at the average sales of each product and compare it with each other to see whether there are significant difference beetween each product sales."
      ]
    },
    {
      "cell_type": "code",
      "execution_count": 28,
      "metadata": {},
      "outputs": [
        {
          "name": "stdout",
          "output_type": "stream",
          "text": [
            "Average of A1 150.81929754225288\n",
            "Average of A2 1265.0103977426058\n",
            "Average of B1 1063.0555555555557\n",
            "Average of B2 927.2919086200284\n"
          ]
        }
      ],
      "source": [
        "print(\"Average of A1\",sales_A1.mean())\n",
        "print(\"Average of A2\",sales_A2.mean())\n",
        "print(\"Average of B1\",sales_B1.mean())\n",
        "print(\"Average of B2\",sales_B2.mean())"
      ]
    },
    {
      "attachments": {},
      "cell_type": "markdown",
      "metadata": {},
      "source": [
        "The hypothesis testing we are going to do are as follows\n",
        "\n",
        "H0 = There are no difference between A1, A2, B1 and B2\n",
        "H1 = There are difference between A1, A2, B1 and B2"
      ]
    },
    {
      "cell_type": "code",
      "execution_count": 29,
      "metadata": {},
      "outputs": [
        {
          "name": "stdout",
          "output_type": "stream",
          "text": [
            "P-value: 7.473937106482581e-16\n"
          ]
        }
      ],
      "source": [
        "# Hypothesis testing with ANOVA\n",
        "f_stat,p_value = f_oneway(sales_A1, sales_A2, sales_B1, sales_B2)\n",
        "print('P-value:', p_value)"
      ]
    },
    {
      "attachments": {},
      "cell_type": "markdown",
      "metadata": {},
      "source": [
        "The result of ANOVA test shows p < 0.5, therefore H0 is rejected. We can conclude that there are significant statistical difference between each product sales."
      ]
    },
    {
      "cell_type": "markdown",
      "metadata": {
        "id": "IPYIOBbYx64r"
      },
      "source": [
        "## 5.Data Preprocessing"
      ]
    },
    {
      "attachments": {},
      "cell_type": "markdown",
      "metadata": {},
      "source": [
        "### 5.1 Splitting Train and Test Data"
      ]
    },
    {
      "attachments": {},
      "cell_type": "markdown",
      "metadata": {
        "id": "2D4UTjt_3lUJ"
      },
      "source": [
        "For this project the requirement are to make a model that can make a forecast for 14 days with the highest accuracy as possible. Therefore we are going to take the last 14 days as test data and the day before that will be used as training data."
      ]
    },
    {
      "cell_type": "code",
      "execution_count": 30,
      "metadata": {},
      "outputs": [],
      "source": [
        "# Defining test length\n",
        "test_length = len(df_A1)-14\n",
        "\n",
        "# Splitting train and test for A1\n",
        "train_A1 = sales_A1.iloc[:test_length]\n",
        "test_A1 = sales_A1.iloc[test_length:]\n",
        "\n",
        "# Splitting train and test for A2\n",
        "train_A2= sales_A2.iloc[:test_length]\n",
        "test_A2 = sales_A2.iloc[test_length:]\n",
        "\n",
        "# Splitting train and test for B1\n",
        "train_B1 = sales_B1.iloc[:test_length]\n",
        "test_B1 = sales_B1.iloc[test_length:]\n",
        "\n",
        "# Splitting train and test for B2\n",
        "train_B2 = sales_B2.iloc[:test_length]\n",
        "test_B2 = sales_B2.iloc[test_length:]"
      ]
    },
    {
      "attachments": {},
      "cell_type": "markdown",
      "metadata": {},
      "source": [
        "## 6.Model Definition"
      ]
    },
    {
      "attachments": {},
      "cell_type": "markdown",
      "metadata": {},
      "source": [
        "The model that are going to be used as forecasting model are Sarimax model. Sarimax model is chosen because it's simplicity and because the dataset presented aren't big dataset. Therefore it doesn't need complex model. Hence it is chosen for the sake of efficiency.\n",
        "\n",
        "To find the best parameter for the model we are going to use the auto arima module from statsmodel to do auto search for the parameter. \n",
        "The "
      ]
    },
    {
      "attachments": {},
      "cell_type": "markdown",
      "metadata": {
        "id": "85qVRY3r7kl0"
      },
      "source": [
        "### 6.1 Search Best Model for A1"
      ]
    },
    {
      "cell_type": "code",
      "execution_count": 31,
      "metadata": {
        "id": "yzwxAtm83kAY"
      },
      "outputs": [],
      "source": [
        "# Search best model for A1\n",
        "auto_arima_A1 = auto_arima(sales_A1, start_p=1, d=1, start_q=1, maxp=7, max_q=7, \n",
        "                           max_d=7, m=7,\n",
        "                           start_P=0, D=1, start_Q=0, max_P=7, max_D=7, maxQ=7,\n",
        "                           error_action='ignore', n_fits=100)"
      ]
    },
    {
      "cell_type": "code",
      "execution_count": 32,
      "metadata": {
        "colab": {
          "base_uri": "https://localhost:8080/",
          "height": 451
        },
        "id": "xvaGjFUH56Z2",
        "outputId": "0a7bac43-e4c2-4a36-867e-9afd960f2ba3"
      },
      "outputs": [
        {
          "data": {
            "text/html": [
              "<table class=\"simpletable\">\n",
              "<caption>SARIMAX Results</caption>\n",
              "<tr>\n",
              "  <th>Dep. Variable:</th>                  <td>y</td>               <th>  No. Observations:  </th>    <td>90</td>   \n",
              "</tr>\n",
              "<tr>\n",
              "  <th>Model:</th>           <td>SARIMAX(0, 1, 2)x(1, 1, [], 7)</td> <th>  Log Likelihood     </th> <td>-182.500</td>\n",
              "</tr>\n",
              "<tr>\n",
              "  <th>Date:</th>                   <td>Tue, 21 Feb 2023</td>        <th>  AIC                </th>  <td>372.999</td>\n",
              "</tr>\n",
              "<tr>\n",
              "  <th>Time:</th>                       <td>17:00:14</td>            <th>  BIC                </th>  <td>382.626</td>\n",
              "</tr>\n",
              "<tr>\n",
              "  <th>Sample:</th>                    <td>11-24-2022</td>           <th>  HQIC               </th>  <td>376.864</td>\n",
              "</tr>\n",
              "<tr>\n",
              "  <th></th>                          <td>- 02-21-2023</td>          <th>                     </th>     <td> </td>   \n",
              "</tr>\n",
              "<tr>\n",
              "  <th>Covariance Type:</th>               <td>opg</td>              <th>                     </th>     <td> </td>   \n",
              "</tr>\n",
              "</table>\n",
              "<table class=\"simpletable\">\n",
              "<tr>\n",
              "     <td></td>        <th>coef</th>     <th>std err</th>      <th>z</th>      <th>P>|z|</th>  <th>[0.025</th>    <th>0.975]</th>  \n",
              "</tr>\n",
              "<tr>\n",
              "  <th>ma.L1</th>   <td>   -0.9005</td> <td>    0.076</td> <td>  -11.918</td> <td> 0.000</td> <td>   -1.049</td> <td>   -0.752</td>\n",
              "</tr>\n",
              "<tr>\n",
              "  <th>ma.L2</th>   <td>    0.2695</td> <td>    0.114</td> <td>    2.372</td> <td> 0.018</td> <td>    0.047</td> <td>    0.492</td>\n",
              "</tr>\n",
              "<tr>\n",
              "  <th>ar.S.L7</th> <td>   -0.4488</td> <td>    0.075</td> <td>   -5.967</td> <td> 0.000</td> <td>   -0.596</td> <td>   -0.301</td>\n",
              "</tr>\n",
              "<tr>\n",
              "  <th>sigma2</th>  <td>    4.8742</td> <td>    0.548</td> <td>    8.902</td> <td> 0.000</td> <td>    3.801</td> <td>    5.947</td>\n",
              "</tr>\n",
              "</table>\n",
              "<table class=\"simpletable\">\n",
              "<tr>\n",
              "  <th>Ljung-Box (L1) (Q):</th>     <td>0.00</td>  <th>  Jarque-Bera (JB):  </th> <td>28.36</td>\n",
              "</tr>\n",
              "<tr>\n",
              "  <th>Prob(Q):</th>                <td>0.99</td>  <th>  Prob(JB):          </th> <td>0.00</td> \n",
              "</tr>\n",
              "<tr>\n",
              "  <th>Heteroskedasticity (H):</th> <td>10.23</td> <th>  Skew:              </th> <td>0.46</td> \n",
              "</tr>\n",
              "<tr>\n",
              "  <th>Prob(H) (two-sided):</th>    <td>0.00</td>  <th>  Kurtosis:          </th> <td>5.73</td> \n",
              "</tr>\n",
              "</table><br/><br/>Warnings:<br/>[1] Covariance matrix calculated using the outer product of gradients (complex-step)."
            ],
            "text/plain": [
              "<class 'statsmodels.iolib.summary.Summary'>\n",
              "\"\"\"\n",
              "                                     SARIMAX Results                                      \n",
              "==========================================================================================\n",
              "Dep. Variable:                                  y   No. Observations:                   90\n",
              "Model:             SARIMAX(0, 1, 2)x(1, 1, [], 7)   Log Likelihood                -182.500\n",
              "Date:                            Tue, 21 Feb 2023   AIC                            372.999\n",
              "Time:                                    17:00:14   BIC                            382.626\n",
              "Sample:                                11-24-2022   HQIC                           376.864\n",
              "                                     - 02-21-2023                                         \n",
              "Covariance Type:                              opg                                         \n",
              "==============================================================================\n",
              "                 coef    std err          z      P>|z|      [0.025      0.975]\n",
              "------------------------------------------------------------------------------\n",
              "ma.L1         -0.9005      0.076    -11.918      0.000      -1.049      -0.752\n",
              "ma.L2          0.2695      0.114      2.372      0.018       0.047       0.492\n",
              "ar.S.L7       -0.4488      0.075     -5.967      0.000      -0.596      -0.301\n",
              "sigma2         4.8742      0.548      8.902      0.000       3.801       5.947\n",
              "===================================================================================\n",
              "Ljung-Box (L1) (Q):                   0.00   Jarque-Bera (JB):                28.36\n",
              "Prob(Q):                              0.99   Prob(JB):                         0.00\n",
              "Heteroskedasticity (H):              10.23   Skew:                             0.46\n",
              "Prob(H) (two-sided):                  0.00   Kurtosis:                         5.73\n",
              "===================================================================================\n",
              "\n",
              "Warnings:\n",
              "[1] Covariance matrix calculated using the outer product of gradients (complex-step).\n",
              "\"\"\""
            ]
          },
          "execution_count": 32,
          "metadata": {},
          "output_type": "execute_result"
        }
      ],
      "source": [
        "# View best model for A1\n",
        "auto_arima_A1.summary()"
      ]
    },
    {
      "attachments": {},
      "cell_type": "markdown",
      "metadata": {},
      "source": [
        "The best parameter for A1 are = order=(0,1,2), seasonal_order=(1,1,0,7)"
      ]
    },
    {
      "attachments": {},
      "cell_type": "markdown",
      "metadata": {},
      "source": [
        "### 6.2 Search Best Model for A2"
      ]
    },
    {
      "cell_type": "code",
      "execution_count": 33,
      "metadata": {
        "id": "qQaZ1eob78uN"
      },
      "outputs": [],
      "source": [
        "# Search best model for A2\n",
        "auto_arima_A2 = auto_arima(sales_A2, start_p=1, d=1, start_q=1, maxp=7, max_q=7, \n",
        "                           max_d=7, m=7,\n",
        "                           start_P=0, D=1, start_Q=0, max_P=7, max_D=7, maxQ=7,\n",
        "                           error_action='ignore', n_fits=100)"
      ]
    },
    {
      "cell_type": "code",
      "execution_count": 34,
      "metadata": {
        "colab": {
          "base_uri": "https://localhost:8080/",
          "height": 490
        },
        "id": "MsSA-2pn8DCU",
        "outputId": "23d03ae4-4b92-4f72-ed34-40ab5348c1b9"
      },
      "outputs": [
        {
          "data": {
            "text/html": [
              "<table class=\"simpletable\">\n",
              "<caption>SARIMAX Results</caption>\n",
              "<tr>\n",
              "  <th>Dep. Variable:</th>                 <td>y</td>               <th>  No. Observations:  </th>    <td>90</td>    \n",
              "</tr>\n",
              "<tr>\n",
              "  <th>Model:</th>           <td>SARIMAX(1, 1, 1)x(1, 1, 1, 7)</td> <th>  Log Likelihood     </th>  <td>519.650</td> \n",
              "</tr>\n",
              "<tr>\n",
              "  <th>Date:</th>                  <td>Tue, 21 Feb 2023</td>        <th>  AIC                </th> <td>-1029.300</td>\n",
              "</tr>\n",
              "<tr>\n",
              "  <th>Time:</th>                      <td>17:00:41</td>            <th>  BIC                </th> <td>-1017.267</td>\n",
              "</tr>\n",
              "<tr>\n",
              "  <th>Sample:</th>                   <td>11-24-2022</td>           <th>  HQIC               </th> <td>-1024.469</td>\n",
              "</tr>\n",
              "<tr>\n",
              "  <th></th>                         <td>- 02-21-2023</td>          <th>                     </th>     <td> </td>    \n",
              "</tr>\n",
              "<tr>\n",
              "  <th>Covariance Type:</th>              <td>opg</td>              <th>                     </th>     <td> </td>    \n",
              "</tr>\n",
              "</table>\n",
              "<table class=\"simpletable\">\n",
              "<tr>\n",
              "     <td></td>        <th>coef</th>     <th>std err</th>      <th>z</th>      <th>P>|z|</th>  <th>[0.025</th>    <th>0.975]</th>  \n",
              "</tr>\n",
              "<tr>\n",
              "  <th>ar.L1</th>   <td>    0.9589</td> <td>    0.018</td> <td>   52.953</td> <td> 0.000</td> <td>    0.923</td> <td>    0.994</td>\n",
              "</tr>\n",
              "<tr>\n",
              "  <th>ma.L1</th>   <td>    0.9340</td> <td>    0.000</td> <td> 4040.818</td> <td> 0.000</td> <td>    0.934</td> <td>    0.934</td>\n",
              "</tr>\n",
              "<tr>\n",
              "  <th>ar.S.L7</th> <td>    0.9460</td> <td>    0.037</td> <td>   25.533</td> <td> 0.000</td> <td>    0.873</td> <td>    1.019</td>\n",
              "</tr>\n",
              "<tr>\n",
              "  <th>ma.S.L7</th> <td>    0.9098</td> <td>    0.000</td> <td> 2341.925</td> <td> 0.000</td> <td>    0.909</td> <td>    0.911</td>\n",
              "</tr>\n",
              "<tr>\n",
              "  <th>sigma2</th>  <td>  1.03e-07</td> <td> 2.39e-08</td> <td>    4.303</td> <td> 0.000</td> <td> 5.61e-08</td> <td>  1.5e-07</td>\n",
              "</tr>\n",
              "</table>\n",
              "<table class=\"simpletable\">\n",
              "<tr>\n",
              "  <th>Ljung-Box (L1) (Q):</th>     <td>0.01</td> <th>  Jarque-Bera (JB):  </th> <td>18975.53</td>\n",
              "</tr>\n",
              "<tr>\n",
              "  <th>Prob(Q):</th>                <td>0.91</td> <th>  Prob(JB):          </th>   <td>0.00</td>  \n",
              "</tr>\n",
              "<tr>\n",
              "  <th>Heteroskedasticity (H):</th> <td>0.42</td> <th>  Skew:              </th>   <td>8.51</td>  \n",
              "</tr>\n",
              "<tr>\n",
              "  <th>Prob(H) (two-sided):</th>    <td>0.03</td> <th>  Kurtosis:          </th>   <td>75.55</td> \n",
              "</tr>\n",
              "</table><br/><br/>Warnings:<br/>[1] Covariance matrix calculated using the outer product of gradients (complex-step).<br/>[2] Covariance matrix is singular or near-singular, with condition number 5.13e+19. Standard errors may be unstable."
            ],
            "text/plain": [
              "<class 'statsmodels.iolib.summary.Summary'>\n",
              "\"\"\"\n",
              "                                     SARIMAX Results                                     \n",
              "=========================================================================================\n",
              "Dep. Variable:                                 y   No. Observations:                   90\n",
              "Model:             SARIMAX(1, 1, 1)x(1, 1, 1, 7)   Log Likelihood                 519.650\n",
              "Date:                           Tue, 21 Feb 2023   AIC                          -1029.300\n",
              "Time:                                   17:00:41   BIC                          -1017.267\n",
              "Sample:                               11-24-2022   HQIC                         -1024.469\n",
              "                                    - 02-21-2023                                         \n",
              "Covariance Type:                             opg                                         \n",
              "==============================================================================\n",
              "                 coef    std err          z      P>|z|      [0.025      0.975]\n",
              "------------------------------------------------------------------------------\n",
              "ar.L1          0.9589      0.018     52.953      0.000       0.923       0.994\n",
              "ma.L1          0.9340      0.000   4040.818      0.000       0.934       0.934\n",
              "ar.S.L7        0.9460      0.037     25.533      0.000       0.873       1.019\n",
              "ma.S.L7        0.9098      0.000   2341.925      0.000       0.909       0.911\n",
              "sigma2       1.03e-07   2.39e-08      4.303      0.000    5.61e-08     1.5e-07\n",
              "===================================================================================\n",
              "Ljung-Box (L1) (Q):                   0.01   Jarque-Bera (JB):             18975.53\n",
              "Prob(Q):                              0.91   Prob(JB):                         0.00\n",
              "Heteroskedasticity (H):               0.42   Skew:                             8.51\n",
              "Prob(H) (two-sided):                  0.03   Kurtosis:                        75.55\n",
              "===================================================================================\n",
              "\n",
              "Warnings:\n",
              "[1] Covariance matrix calculated using the outer product of gradients (complex-step).\n",
              "[2] Covariance matrix is singular or near-singular, with condition number 5.13e+19. Standard errors may be unstable.\n",
              "\"\"\""
            ]
          },
          "execution_count": 34,
          "metadata": {},
          "output_type": "execute_result"
        }
      ],
      "source": [
        "# View best model for A1\n",
        "auto_arima_A2.summary()"
      ]
    },
    {
      "attachments": {},
      "cell_type": "markdown",
      "metadata": {},
      "source": [
        "The best parameter for A2 are = order=(2,1,1), seasonal_order=(1,1,0,7)"
      ]
    },
    {
      "attachments": {},
      "cell_type": "markdown",
      "metadata": {},
      "source": [
        "### 6.2 Search Best Model for B1"
      ]
    },
    {
      "cell_type": "code",
      "execution_count": 35,
      "metadata": {
        "id": "HC9CfOY08eJV"
      },
      "outputs": [],
      "source": [
        "# Search best model for B1\n",
        "auto_arima_B1 = auto_arima(sales_B1, start_p=1, d=1, start_q=1, maxp=7, max_q=7, \n",
        "                           max_d=7, m=7,\n",
        "                           start_P=0, D=1, start_Q=0, max_P=7, max_D=7, maxQ=7,\n",
        "                           error_action='ignore', n_fits=100)"
      ]
    },
    {
      "cell_type": "code",
      "execution_count": 36,
      "metadata": {
        "colab": {
          "base_uri": "https://localhost:8080/",
          "height": 494
        },
        "id": "lpJVJm5c8huQ",
        "outputId": "fd368b19-16c3-4517-8498-24fc45e1575c"
      },
      "outputs": [
        {
          "data": {
            "text/html": [
              "<table class=\"simpletable\">\n",
              "<caption>SARIMAX Results</caption>\n",
              "<tr>\n",
              "  <th>Dep. Variable:</th>                  <td>y</td>                <th>  No. Observations:  </th>    <td>90</td>   \n",
              "</tr>\n",
              "<tr>\n",
              "  <th>Model:</th>           <td>SARIMAX(3, 1, 0)x(1, 1, [1], 7)</td> <th>  Log Likelihood     </th> <td>-566.451</td>\n",
              "</tr>\n",
              "<tr>\n",
              "  <th>Date:</th>                   <td>Tue, 21 Feb 2023</td>         <th>  AIC                </th> <td>1144.902</td>\n",
              "</tr>\n",
              "<tr>\n",
              "  <th>Time:</th>                       <td>17:00:57</td>             <th>  BIC                </th> <td>1159.343</td>\n",
              "</tr>\n",
              "<tr>\n",
              "  <th>Sample:</th>                    <td>11-24-2022</td>            <th>  HQIC               </th> <td>1150.700</td>\n",
              "</tr>\n",
              "<tr>\n",
              "  <th></th>                          <td>- 02-21-2023</td>           <th>                     </th>     <td> </td>   \n",
              "</tr>\n",
              "<tr>\n",
              "  <th>Covariance Type:</th>               <td>opg</td>               <th>                     </th>     <td> </td>   \n",
              "</tr>\n",
              "</table>\n",
              "<table class=\"simpletable\">\n",
              "<tr>\n",
              "     <td></td>        <th>coef</th>     <th>std err</th>      <th>z</th>      <th>P>|z|</th>  <th>[0.025</th>    <th>0.975]</th>  \n",
              "</tr>\n",
              "<tr>\n",
              "  <th>ar.L1</th>   <td>   -0.7082</td> <td>    0.120</td> <td>   -5.888</td> <td> 0.000</td> <td>   -0.944</td> <td>   -0.472</td>\n",
              "</tr>\n",
              "<tr>\n",
              "  <th>ar.L2</th>   <td>   -0.5648</td> <td>    0.153</td> <td>   -3.685</td> <td> 0.000</td> <td>   -0.865</td> <td>   -0.264</td>\n",
              "</tr>\n",
              "<tr>\n",
              "  <th>ar.L3</th>   <td>   -0.2937</td> <td>    0.163</td> <td>   -1.805</td> <td> 0.071</td> <td>   -0.613</td> <td>    0.025</td>\n",
              "</tr>\n",
              "<tr>\n",
              "  <th>ar.S.L7</th> <td>   -0.3754</td> <td>    0.144</td> <td>   -2.608</td> <td> 0.009</td> <td>   -0.658</td> <td>   -0.093</td>\n",
              "</tr>\n",
              "<tr>\n",
              "  <th>ma.S.L7</th> <td>   -0.4483</td> <td>    0.174</td> <td>   -2.579</td> <td> 0.010</td> <td>   -0.789</td> <td>   -0.108</td>\n",
              "</tr>\n",
              "<tr>\n",
              "  <th>sigma2</th>  <td> 5.639e+04</td> <td> 6892.013</td> <td>    8.182</td> <td> 0.000</td> <td> 4.29e+04</td> <td> 6.99e+04</td>\n",
              "</tr>\n",
              "</table>\n",
              "<table class=\"simpletable\">\n",
              "<tr>\n",
              "  <th>Ljung-Box (L1) (Q):</th>     <td>0.55</td> <th>  Jarque-Bera (JB):  </th> <td>29.68</td>\n",
              "</tr>\n",
              "<tr>\n",
              "  <th>Prob(Q):</th>                <td>0.46</td> <th>  Prob(JB):          </th> <td>0.00</td> \n",
              "</tr>\n",
              "<tr>\n",
              "  <th>Heteroskedasticity (H):</th> <td>0.66</td> <th>  Skew:              </th> <td>0.86</td> \n",
              "</tr>\n",
              "<tr>\n",
              "  <th>Prob(H) (two-sided):</th>    <td>0.28</td> <th>  Kurtosis:          </th> <td>5.39</td> \n",
              "</tr>\n",
              "</table><br/><br/>Warnings:<br/>[1] Covariance matrix calculated using the outer product of gradients (complex-step)."
            ],
            "text/plain": [
              "<class 'statsmodels.iolib.summary.Summary'>\n",
              "\"\"\"\n",
              "                                      SARIMAX Results                                      \n",
              "===========================================================================================\n",
              "Dep. Variable:                                   y   No. Observations:                   90\n",
              "Model:             SARIMAX(3, 1, 0)x(1, 1, [1], 7)   Log Likelihood                -566.451\n",
              "Date:                             Tue, 21 Feb 2023   AIC                           1144.902\n",
              "Time:                                     17:00:57   BIC                           1159.343\n",
              "Sample:                                 11-24-2022   HQIC                          1150.700\n",
              "                                      - 02-21-2023                                         \n",
              "Covariance Type:                               opg                                         \n",
              "==============================================================================\n",
              "                 coef    std err          z      P>|z|      [0.025      0.975]\n",
              "------------------------------------------------------------------------------\n",
              "ar.L1         -0.7082      0.120     -5.888      0.000      -0.944      -0.472\n",
              "ar.L2         -0.5648      0.153     -3.685      0.000      -0.865      -0.264\n",
              "ar.L3         -0.2937      0.163     -1.805      0.071      -0.613       0.025\n",
              "ar.S.L7       -0.3754      0.144     -2.608      0.009      -0.658      -0.093\n",
              "ma.S.L7       -0.4483      0.174     -2.579      0.010      -0.789      -0.108\n",
              "sigma2      5.639e+04   6892.013      8.182      0.000    4.29e+04    6.99e+04\n",
              "===================================================================================\n",
              "Ljung-Box (L1) (Q):                   0.55   Jarque-Bera (JB):                29.68\n",
              "Prob(Q):                              0.46   Prob(JB):                         0.00\n",
              "Heteroskedasticity (H):               0.66   Skew:                             0.86\n",
              "Prob(H) (two-sided):                  0.28   Kurtosis:                         5.39\n",
              "===================================================================================\n",
              "\n",
              "Warnings:\n",
              "[1] Covariance matrix calculated using the outer product of gradients (complex-step).\n",
              "\"\"\""
            ]
          },
          "execution_count": 36,
          "metadata": {},
          "output_type": "execute_result"
        }
      ],
      "source": [
        "# View best model for B1\n",
        "auto_arima_B1.summary()"
      ]
    },
    {
      "attachments": {},
      "cell_type": "markdown",
      "metadata": {},
      "source": [
        "The best parameter for B1 are = order=(3,1,0), seasonal_order=(1,1,1,7)"
      ]
    },
    {
      "attachments": {},
      "cell_type": "markdown",
      "metadata": {},
      "source": [
        "### 6.2 Search Best Model for B2"
      ]
    },
    {
      "cell_type": "code",
      "execution_count": 37,
      "metadata": {
        "id": "84bypevN8zv1"
      },
      "outputs": [],
      "source": [
        "# Search best model for B2\n",
        "auto_arima_B2 = auto_arima(sales_B2, start_p=1, d=1, start_q=1, maxp=7, max_q=7, \n",
        "                           max_d=7, m=7,\n",
        "                           start_P=0, D=1, start_Q=0, max_P=7, max_D=7, maxQ=7,\n",
        "                           error_action='ignore', n_fits=100)"
      ]
    },
    {
      "cell_type": "code",
      "execution_count": 38,
      "metadata": {
        "colab": {
          "base_uri": "https://localhost:8080/",
          "height": 473
        },
        "id": "qBCYEbgH81QF",
        "outputId": "95273c06-b625-4c17-cd77-e5e2e4a1f018"
      },
      "outputs": [
        {
          "data": {
            "text/html": [
              "<table class=\"simpletable\">\n",
              "<caption>SARIMAX Results</caption>\n",
              "<tr>\n",
              "  <th>Dep. Variable:</th>                  <td>y</td>                <th>  No. Observations:  </th>    <td>90</td>   \n",
              "</tr>\n",
              "<tr>\n",
              "  <th>Model:</th>           <td>SARIMAX(1, 1, 0)x(2, 1, [1], 7)</td> <th>  Log Likelihood     </th> <td>-472.728</td>\n",
              "</tr>\n",
              "<tr>\n",
              "  <th>Date:</th>                   <td>Tue, 21 Feb 2023</td>         <th>  AIC                </th>  <td>955.456</td>\n",
              "</tr>\n",
              "<tr>\n",
              "  <th>Time:</th>                       <td>17:01:13</td>             <th>  BIC                </th>  <td>967.489</td>\n",
              "</tr>\n",
              "<tr>\n",
              "  <th>Sample:</th>                    <td>11-24-2022</td>            <th>  HQIC               </th>  <td>960.287</td>\n",
              "</tr>\n",
              "<tr>\n",
              "  <th></th>                          <td>- 02-21-2023</td>           <th>                     </th>     <td> </td>   \n",
              "</tr>\n",
              "<tr>\n",
              "  <th>Covariance Type:</th>               <td>opg</td>               <th>                     </th>     <td> </td>   \n",
              "</tr>\n",
              "</table>\n",
              "<table class=\"simpletable\">\n",
              "<tr>\n",
              "      <td></td>        <th>coef</th>     <th>std err</th>      <th>z</th>      <th>P>|z|</th>  <th>[0.025</th>    <th>0.975]</th>  \n",
              "</tr>\n",
              "<tr>\n",
              "  <th>ar.L1</th>    <td>    0.8877</td> <td>    0.024</td> <td>   37.619</td> <td> 0.000</td> <td>    0.841</td> <td>    0.934</td>\n",
              "</tr>\n",
              "<tr>\n",
              "  <th>ar.S.L7</th>  <td>   -0.1972</td> <td>    0.400</td> <td>   -0.493</td> <td> 0.622</td> <td>   -0.982</td> <td>    0.587</td>\n",
              "</tr>\n",
              "<tr>\n",
              "  <th>ar.S.L14</th> <td>   -0.1907</td> <td>    0.751</td> <td>   -0.254</td> <td> 0.800</td> <td>   -1.663</td> <td>    1.282</td>\n",
              "</tr>\n",
              "<tr>\n",
              "  <th>ma.S.L7</th>  <td>   -0.8035</td> <td>    0.482</td> <td>   -1.666</td> <td> 0.096</td> <td>   -1.749</td> <td>    0.142</td>\n",
              "</tr>\n",
              "<tr>\n",
              "  <th>sigma2</th>   <td> 5165.4532</td> <td>  448.960</td> <td>   11.505</td> <td> 0.000</td> <td> 4285.508</td> <td> 6045.398</td>\n",
              "</tr>\n",
              "</table>\n",
              "<table class=\"simpletable\">\n",
              "<tr>\n",
              "  <th>Ljung-Box (L1) (Q):</th>        <td>2.60</td>     <th>  Jarque-Bera (JB):  </th> <td>407.34</td>\n",
              "</tr>\n",
              "<tr>\n",
              "  <th>Prob(Q):</th>                   <td>0.11</td>     <th>  Prob(JB):          </th>  <td>0.00</td> \n",
              "</tr>\n",
              "<tr>\n",
              "  <th>Heteroskedasticity (H):</th> <td>40894606.49</td> <th>  Skew:              </th>  <td>1.79</td> \n",
              "</tr>\n",
              "<tr>\n",
              "  <th>Prob(H) (two-sided):</th>       <td>0.00</td>     <th>  Kurtosis:          </th>  <td>13.31</td>\n",
              "</tr>\n",
              "</table><br/><br/>Warnings:<br/>[1] Covariance matrix calculated using the outer product of gradients (complex-step)."
            ],
            "text/plain": [
              "<class 'statsmodels.iolib.summary.Summary'>\n",
              "\"\"\"\n",
              "                                      SARIMAX Results                                      \n",
              "===========================================================================================\n",
              "Dep. Variable:                                   y   No. Observations:                   90\n",
              "Model:             SARIMAX(1, 1, 0)x(2, 1, [1], 7)   Log Likelihood                -472.728\n",
              "Date:                             Tue, 21 Feb 2023   AIC                            955.456\n",
              "Time:                                     17:01:13   BIC                            967.489\n",
              "Sample:                                 11-24-2022   HQIC                           960.287\n",
              "                                      - 02-21-2023                                         \n",
              "Covariance Type:                               opg                                         \n",
              "==============================================================================\n",
              "                 coef    std err          z      P>|z|      [0.025      0.975]\n",
              "------------------------------------------------------------------------------\n",
              "ar.L1          0.8877      0.024     37.619      0.000       0.841       0.934\n",
              "ar.S.L7       -0.1972      0.400     -0.493      0.622      -0.982       0.587\n",
              "ar.S.L14      -0.1907      0.751     -0.254      0.800      -1.663       1.282\n",
              "ma.S.L7       -0.8035      0.482     -1.666      0.096      -1.749       0.142\n",
              "sigma2      5165.4532    448.960     11.505      0.000    4285.508    6045.398\n",
              "===================================================================================\n",
              "Ljung-Box (L1) (Q):                   2.60   Jarque-Bera (JB):               407.34\n",
              "Prob(Q):                              0.11   Prob(JB):                         0.00\n",
              "Heteroskedasticity (H):        40894606.49   Skew:                             1.79\n",
              "Prob(H) (two-sided):                  0.00   Kurtosis:                        13.31\n",
              "===================================================================================\n",
              "\n",
              "Warnings:\n",
              "[1] Covariance matrix calculated using the outer product of gradients (complex-step).\n",
              "\"\"\""
            ]
          },
          "execution_count": 38,
          "metadata": {},
          "output_type": "execute_result"
        }
      ],
      "source": [
        "# Search best model for B2\n",
        "auto_arima_B2.summary()"
      ]
    },
    {
      "attachments": {},
      "cell_type": "markdown",
      "metadata": {},
      "source": [
        "The best parameter for B1 are = order=(1,1,0), seasonal_order=(2,1,1,7)"
      ]
    },
    {
      "attachments": {},
      "cell_type": "markdown",
      "metadata": {
        "id": "KeIpXL7R9ao5"
      },
      "source": [
        "## 7.Model Training"
      ]
    },
    {
      "cell_type": "code",
      "execution_count": 39,
      "metadata": {
        "id": "3uHlNTJS9Z23"
      },
      "outputs": [],
      "source": [
        "forecasting_A1 = SARIMAX(train_A1, order=(0,1,2), seasonal_order=(1,1,0,7)).fit()"
      ]
    },
    {
      "cell_type": "code",
      "execution_count": 40,
      "metadata": {
        "id": "n8ew82eK-bWO"
      },
      "outputs": [],
      "source": [
        "forecasting_A2 = SARIMAX(train_A2, order=(2,1,1), seasonal_order=(1,1,0,7)).fit()"
      ]
    },
    {
      "cell_type": "code",
      "execution_count": 41,
      "metadata": {
        "id": "NYSabK7Z-bxF"
      },
      "outputs": [],
      "source": [
        "forecasting_B1 = SARIMAX(train_B1, order=(3,1,0), seasonal_order=(1,1,1,7)).fit()"
      ]
    },
    {
      "cell_type": "code",
      "execution_count": 42,
      "metadata": {
        "id": "Jl-qp2xm-cHB"
      },
      "outputs": [],
      "source": [
        "forecasting_B2 = SARIMAX(train_B2, order=(1,1,0), seasonal_order=(2,1,1,7)).fit()"
      ]
    },
    {
      "attachments": {},
      "cell_type": "markdown",
      "metadata": {
        "id": "IkkhkHT3_dmk"
      },
      "source": [
        "## 8.Model Evaluation"
      ]
    },
    {
      "attachments": {},
      "cell_type": "markdown",
      "metadata": {},
      "source": [
        "Model evaluation will be done by comparing the predicted value with the actual value of sales for each product category. The metric that are going to be used to evaluate the model are MAE and RSME. MAE are metric that calculate the average off difference between predicted data and actual data, the closer the error to zero the better the mmodel prediction accuracy. RMSE are a root of MSE, which also calculate the error but more easily interpreted compared to normal MSE."
      ]
    },
    {
      "attachments": {},
      "cell_type": "markdown",
      "metadata": {
        "id": "VCwZqJU-Da3w"
      },
      "source": [
        "### 8.1 Forecasting A1 Evaluation\n",
        "\n"
      ]
    },
    {
      "cell_type": "code",
      "execution_count": 43,
      "metadata": {
        "id": "2DN350rlBqjs"
      },
      "outputs": [],
      "source": [
        "# Defining date range for test forecasting\n",
        "start_test_index = len(train_A1)\n",
        "end_test_index = len(df_A1)-1"
      ]
    },
    {
      "cell_type": "code",
      "execution_count": 44,
      "metadata": {
        "id": "UrSTlnGwASoV"
      },
      "outputs": [],
      "source": [
        "# Forecasting A1 sales\n",
        "pred_test_A1 = forecasting_A1.predict(start_test_index, end_test_index, dynamic=True)\n",
        "pred_test_A1 = pd.DataFrame(pred_test_A1)\n",
        "pred_test_A1.columns = ['Sales_predict']"
      ]
    },
    {
      "cell_type": "code",
      "execution_count": 45,
      "metadata": {
        "colab": {
          "base_uri": "https://localhost:8080/",
          "height": 374
        },
        "id": "LwM4xS2zHgXk",
        "outputId": "f002d37a-bfdd-4264-d9bb-0f636bc54282"
      },
      "outputs": [
        {
          "data": {
            "image/png": "[encoded data removed]",
            "text/plain": [
              "<Figure size 1080x360 with 1 Axes>"
            ]
          },
          "metadata": {},
          "output_type": "display_data"
        },
        {
          "name": "stdout",
          "output_type": "stream",
          "text": [
            "MAE test =  2.1439894727089177\n",
            "MSE test =  7.0293590161568975\n",
            "RMSE test =  2.6512938381395785\n"
          ]
        }
      ],
      "source": [
        "# Visualizing prediction\n",
        "plt.figure(figsize=(15, 5))\n",
        "plt.plot(test_A1)\n",
        "plt.plot(pred_test_A1)\n",
        "plt.legend(['Actual Sales', 'Predicted Sales'])\n",
        "plt.show()\n",
        "\n",
        "print('MAE test = ', mean_absolute_error(test_A1, pred_test_A1))\n",
        "print('MSE test = ', mean_squared_error(test_A1, pred_test_A1))\n",
        "print('RMSE test = ', np.sqrt(mean_squared_error(test_A1, pred_test_A1)))"
      ]
    },
    {
      "attachments": {},
      "cell_type": "markdown",
      "metadata": {},
      "source": [
        "The forecating error for A1 are quite small with MAE and RMSE score of 2. The visualization plot also shows that the forecasting are quite similar to the actual sales. We can conclude that model forecasting A1 has great accuracy in forecasting A1 sales."
      ]
    },
    {
      "cell_type": "markdown",
      "metadata": {
        "id": "PVYbMl_nDjaE"
      },
      "source": [
        "### Forecasting A2 Evaluation"
      ]
    },
    {
      "cell_type": "code",
      "execution_count": 46,
      "metadata": {
        "id": "jIClPhQtDwjs"
      },
      "outputs": [],
      "source": [
        "# Forecasting A2 sales\n",
        "pred_test_A2 = forecasting_A2.predict(start_test_index, end_test_index, dynamic=True)\n",
        "pred_test_A2 = pd.DataFrame(pred_test_A2)\n",
        "pred_test_A2.columns = ['Sales_predict']"
      ]
    },
    {
      "cell_type": "code",
      "execution_count": 47,
      "metadata": {
        "colab": {
          "base_uri": "https://localhost:8080/",
          "height": 374
        },
        "id": "9HG-57zJDybU",
        "outputId": "6170daf0-7aeb-45cf-8125-b7e11e203487"
      },
      "outputs": [
        {
          "data": {
            "image/png": "[encoded data removed]",
            "text/plain": [
              "<Figure size 1080x360 with 1 Axes>"
            ]
          },
          "metadata": {},
          "output_type": "display_data"
        },
        {
          "name": "stdout",
          "output_type": "stream",
          "text": [
            "MAE test =  0.05088699129086243\n",
            "MSE test =  0.004875505061864889\n",
            "RMSE test =  0.0698248169483092\n"
          ]
        }
      ],
      "source": [
        "# Visualizing prediction\n",
        "plt.figure(figsize=(15, 5))\n",
        "plt.plot(test_A2)\n",
        "plt.plot(pred_test_A2)\n",
        "plt.legend(['Actual Sales', 'Predicted Sales'])\n",
        "plt.show()\n",
        "\n",
        "print('MAE test = ', mean_absolute_error(test_A2, pred_test_A2))\n",
        "print('MSE test = ', mean_squared_error(test_A2, pred_test_A2))\n",
        "print('RMSE test = ', np.sqrt(mean_squared_error(test_A2, pred_test_A2)))"
      ]
    },
    {
      "attachments": {},
      "cell_type": "markdown",
      "metadata": {},
      "source": [
        "The model forecsating A2 has really small MAE and RMSE score that really close to zero. The plot of prediction and actual data also looks almost the same. We can conclude that the model has great accuracy in forecasting A2 sales."
      ]
    },
    {
      "cell_type": "markdown",
      "metadata": {
        "id": "aEiDbKOnEDSU"
      },
      "source": [
        "### Forecasting A2 Evaluation"
      ]
    },
    {
      "cell_type": "code",
      "execution_count": 48,
      "metadata": {
        "id": "JDg42cm6EGE_"
      },
      "outputs": [],
      "source": [
        "# Forecasting B1 sales\n",
        "pred_test_B1 = forecasting_B1.predict(start_test_index, end_test_index, dynamic=True)\n",
        "pred_test_B1 = pd.DataFrame(pred_test_A2)\n",
        "pred_test_B1.columns = ['Sales_predict']"
      ]
    },
    {
      "cell_type": "code",
      "execution_count": 49,
      "metadata": {
        "colab": {
          "base_uri": "https://localhost:8080/",
          "height": 374
        },
        "id": "lrG9UafOEGg2",
        "outputId": "d7b84ff6-3918-41da-e2ae-c6448686e15c"
      },
      "outputs": [
        {
          "data": {
            "image/png": "[encoded data removed]",
            "text/plain": [
              "<Figure size 1080x360 with 1 Axes>"
            ]
          },
          "metadata": {},
          "output_type": "display_data"
        },
        {
          "name": "stdout",
          "output_type": "stream",
          "text": [
            "MAE test =  446.3062035193378\n",
            "MSE test =  224993.2818960354\n",
            "RMSE test =  474.3345674690338\n"
          ]
        }
      ],
      "source": [
        "# Visualizing prediction\n",
        "plt.figure(figsize=(15, 5))\n",
        "plt.plot(test_B1)\n",
        "plt.plot(pred_test_B1)\n",
        "plt.legend(['Actual Sales', 'Predicted Sales'])\n",
        "plt.show()\n",
        "\n",
        "print('MAE test = ', mean_absolute_error(test_B1, pred_test_B1))\n",
        "print('MSE test = ', mean_squared_error(test_B1, pred_test_B1))\n",
        "print('RMSE test = ', np.sqrt(mean_squared_error(test_B1, pred_test_B1)))"
      ]
    },
    {
      "attachments": {},
      "cell_type": "markdown",
      "metadata": {},
      "source": [
        "The predicted model shows error score that are quite large compared to te other two model, with MAE 197 and RMSE 274. The visualization plot also shows the prediction aren't perfectly in line with the actual value. This might be because the irregular trend fluctuaion that present in the sales data. We might need a more powerful model that can handle a complex calculation so that we can predict the sales data with more accuracy."
      ]
    },
    {
      "cell_type": "markdown",
      "metadata": {
        "id": "oakMuziVES4F"
      },
      "source": [
        "### Forecasting B1 Evaluation"
      ]
    },
    {
      "cell_type": "code",
      "execution_count": 50,
      "metadata": {
        "id": "5W4z0mmxEcCF"
      },
      "outputs": [],
      "source": [
        "# Forecasting B2 sales\n",
        "pred_test_B2 = forecasting_B2.predict(start_test_index, end_test_index, dynamic=True)\n",
        "pred_test_B2 = pd.DataFrame(pred_test_B2)\n",
        "pred_test_B2.columns = ['Sales_predict']"
      ]
    },
    {
      "cell_type": "code",
      "execution_count": 51,
      "metadata": {
        "colab": {
          "base_uri": "https://localhost:8080/",
          "height": 374
        },
        "id": "sdqfXVo8Ed3O",
        "outputId": "42014451-0c1e-46cf-da51-de0acc3d0210"
      },
      "outputs": [
        {
          "data": {
            "image/png": "[encoded data removed]",
            "text/plain": [
              "<Figure size 1080x360 with 1 Axes>"
            ]
          },
          "metadata": {},
          "output_type": "display_data"
        },
        {
          "name": "stdout",
          "output_type": "stream",
          "text": [
            "MAE test =  5890.0755688368545\n",
            "MSE test =  50405278.0471673\n",
            "RMSE test =  7099.667460322864\n"
          ]
        }
      ],
      "source": [
        "# Visualizing prediction\n",
        "plt.figure(figsize=(15, 5))\n",
        "plt.plot(test_B2)\n",
        "plt.plot(pred_test_B2)\n",
        "plt.legend(['Actual Sales', 'Predicted Sales'])\n",
        "plt.show()\n",
        "\n",
        "print('MAE test = ', mean_absolute_error(test_B2, pred_test_B2))\n",
        "print('MSE test = ', mean_squared_error(test_B2, pred_test_B2))\n",
        "print('RMSE test = ', np.sqrt(mean_squared_error(test_B2, pred_test_B2)))"
      ]
    },
    {
      "attachments": {},
      "cell_type": "markdown",
      "metadata": {},
      "source": [
        "The MSE and RMSE score for B2 model forecasting also shows a large amount of error. We can see from the visualization that the forecasting shows an increasing trend, while the actual value are stationary. This might happen because of the way we split the trai and test data. The trend for B2 are increasing at near the end but then it become stagnant. The splitting could be happen before the actual data stagnation therefore we couldn't capture it for the model traaining and the model forecast the sales data to keep increasing."
      ]
    },
    {
      "cell_type": "markdown",
      "metadata": {
        "id": "f_C06eHzJ4Fa"
      },
      "source": [
        "## Conclusion"
      ]
    },
    {
      "attachments": {},
      "cell_type": "markdown",
      "metadata": {},
      "source": [
        "* We can see from the dataset that product A1 and A2 has clear increasing trend pattern and seasonality which is why the model forecasting works better. Meanwhile the irregularity of product B1 and the lack of data from B2 causes the model forecasting result to be unfavorable. \n",
        "* Product B2 has the largest sales growth among other product. It might be popular with customer since the sales of B2 in the last few days are the highest even when the trend are no longer increasing. It might be good to invest to this product production and marketin to increase the sales even more.\n",
        "* Product A1 sales are quite low but it's shows consistency and increasing trends. It might be worth to invest more on improving the product.\n",
        "* Product A2 also shows increasing trends, it could be good to invest more on product improvement or marketing since it's performed quite good.\n",
        "* Product B1 generally sold quite well compared to the other product. It has stagnat trend but there are seasonaliy where people buy the product more every few days.\n",
        "* For future improvement on the model we might need more data for B2 sales to be able to build a better forecasting model. We can also use a model that can handle more complex calculation to anticipate data with irregular trend like B1"
      ]
    }
  ],
  "metadata": {
    "colab": {
      "provenance": []
    },
    "kernelspec": {
      "display_name": "base",
      "language": "python",
      "name": "python3"
    },
    "language_info": {
      "codemirror_mode": {
        "name": "ipython",
        "version": 3
      },
      "file_extension": ".py",
      "mimetype": "text/x-python",
      "name": "python",
      "nbconvert_exporter": "python",
      "pygments_lexer": "ipython3",
      "version": "3.9.12"
    },
    "orig_nbformat": 4,
    "vscode": {
      "interpreter": {
        "hash": "1b26fbbc8dfc3d71844b20644f959851aa3e6a6bf2b4400ed5d7d84b8b54a836"
      }
    }
  },
  "nbformat": 4,
  "nbformat_minor": 0
}
